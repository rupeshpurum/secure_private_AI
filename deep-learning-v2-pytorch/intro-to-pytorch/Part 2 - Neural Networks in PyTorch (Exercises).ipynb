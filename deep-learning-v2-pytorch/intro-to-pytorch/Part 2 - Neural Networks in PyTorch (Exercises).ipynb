{
 "cells": [
  {
   "cell_type": "markdown",
   "metadata": {},
   "source": [
    "# Neural networks with PyTorch\n",
    "\n",
    "Deep learning networks tend to be massive with dozens or hundreds of layers, that's where the term \"deep\" comes from. You can build one of these deep networks using only weight matrices as we did in the previous notebook, but in general it's very cumbersome and difficult to implement. PyTorch has a nice module `nn` that provides a nice way to efficiently build large neural networks."
   ]
  },
  {
   "cell_type": "code",
   "execution_count": 1,
   "metadata": {},
   "outputs": [],
   "source": [
    "# Import necessary packages\n",
    "\n",
    "%matplotlib inline\n",
    "%config InlineBackend.figure_format = 'retina'\n",
    "\n",
    "import numpy as np\n",
    "import torch\n",
    "\n",
    "import helper\n",
    "\n",
    "import matplotlib.pyplot as plt"
   ]
  },
  {
   "cell_type": "markdown",
   "metadata": {},
   "source": [
    "\n",
    "Now we're going to build a larger network that can solve a (formerly) difficult problem, identifying text in an image. Here we'll use the MNIST dataset which consists of greyscale handwritten digits. Each image is 28x28 pixels, you can see a sample below\n",
    "\n",
    "<img src='assets/mnist.png'>\n",
    "\n",
    "Our goal is to build a neural network that can take one of these images and predict the digit in the image.\n",
    "\n",
    "First up, we need to get our dataset. This is provided through the `torchvision` package. The code below will download the MNIST dataset, then create training and test datasets for us. Don't worry too much about the details here, you'll learn more about this later."
   ]
  },
  {
   "cell_type": "code",
   "execution_count": 5,
   "metadata": {},
   "outputs": [
    {
     "name": "stdout",
     "output_type": "stream",
     "text": [
      "60000\n"
     ]
    }
   ],
   "source": [
    "### Run this cell\n",
    "\n",
    "from torchvision import datasets, transforms\n",
    "\n",
    "# Define a transform to normalize the data\n",
    "transform = transforms.Compose([transforms.ToTensor(),\n",
    "                              transforms.Normalize((0.5,), (0.5,)),\n",
    "                              ])\n",
    "\n",
    "# Download and load the training data\n",
    "trainset = datasets.MNIST('~/.pytorch/MNIST_data/', download=True, train=True, transform=transform)\n",
    "trainloader = torch.utils.data.DataLoader(trainset, batch_size=64, shuffle=True)\n",
    "print(len(trainset))"
   ]
  },
  {
   "cell_type": "markdown",
   "metadata": {},
   "source": [
    "We have the training data loaded into `trainloader` and we make that an iterator with `iter(trainloader)`. Later, we'll use this to loop through the dataset for training, like\n",
    "\n",
    "```python\n",
    "for image, label in trainloader:\n",
    "    ## do things with images and labels\n",
    "```\n",
    "\n",
    "You'll notice I created the `trainloader` with a batch size of 64, and `shuffle=True`. The batch size is the number of images we get in one iteration from the data loader and pass through our network, often called a *batch*. And `shuffle=True` tells it to shuffle the dataset every time we start going through the data loader again. But here I'm just grabbing the first batch so we can check out the data. We can see below that `images` is just a tensor with size `(64, 1, 28, 28)`. So, 64 images per batch, 1 color channel, and 28x28 images."
   ]
  },
  {
   "cell_type": "code",
   "execution_count": 3,
   "metadata": {},
   "outputs": [
    {
     "name": "stdout",
     "output_type": "stream",
     "text": [
      "<class 'torch.Tensor'>\n",
      "torch.Size([64, 1, 28, 28])\n",
      "torch.Size([64])\n"
     ]
    }
   ],
   "source": [
    "dataiter = iter(trainloader)\n",
    "images, labels = dataiter.next()\n",
    "print(type(images))\n",
    "print(images.shape)\n",
    "print(labels.shape)"
   ]
  },
  {
   "cell_type": "markdown",
   "metadata": {},
   "source": [
    "This is what one of the images looks like. "
   ]
  },
  {
   "cell_type": "code",
   "execution_count": 4,
   "metadata": {},
   "outputs": [
    {
     "data": {
      "image/png": "[encoded data removed]",
      "text/plain": [
       "<Figure size 432x288 with 1 Axes>"
      ]
     },
     "metadata": {
      "image/png": {
       "height": 248,
       "width": 251
      },
      "needs_background": "light"
     },
     "output_type": "display_data"
    }
   ],
   "source": [
    "plt.imshow(images[1].numpy().squeeze(), cmap='Greys_r');"
   ]
  },
  {
   "cell_type": "markdown",
   "metadata": {},
   "source": [
    "First, let's try to build a simple network for this dataset using weight matrices and matrix multiplications. Then, we'll see how to do it using PyTorch's `nn` module which provides a much more convenient and powerful method for defining network architectures.\n",
    "\n",
    "The networks you've seen so far are called *fully-connected* or *dense* networks. Each unit in one layer is connected to each unit in the next layer. In fully-connected networks, the input to each layer must be a one-dimensional vector (which can be stacked into a 2D tensor as a batch of multiple examples). However, our images are 28x28 2D tensors, so we need to convert them into 1D vectors. Thinking about sizes, we need to convert the batch of images with shape `(64, 1, 28, 28)` to a have a shape of `(64, 784)`, 784 is 28 times 28. This is typically called *flattening*, we flattened the 2D images into 1D vectors.\n",
    "\n",
    "Previously you built a network with one output unit. Here we need 10 output units, one for each digit. We want our network to predict the digit shown in an image, so what we'll do is calculate probabilities that the image is of any one digit or class. This ends up being a discrete probability distribution over the classes (digits) that tells us the most likely class for the image. That means we need 10 output units for the 10 classes (digits). We'll see how to convert the network output into a probability distribution next.\n",
    "\n",
    "> **Exercise:** Flatten the batch of images `images`. Then build a multi-layer network with 784 input units, 256 hidden units, and 10 output units using random tensors for the weights and biases. For now, use a sigmoid activation for the hidden layer. Leave the output layer without an activation, we'll add one that gives us a probability distribution next."
   ]
  },
  {
   "cell_type": "code",
   "execution_count": 5,
   "metadata": {},
   "outputs": [
    {
     "name": "stdout",
     "output_type": "stream",
     "text": [
      "images size :  torch.Size([64, 1, 28, 28])\n",
      "input size : torch.Size([64, 784])\n",
      "W1 size :  torch.Size([784, 256])\n",
      "B1 size :  torch.Size([1, 256])\n",
      "inpt image torch.Size([64, 784])\n",
      "wx size torch.Size([64, 256])\n",
      "wx + b size torch.Size([64, 256])\n",
      "torch.Size([64, 256])\n",
      "torch.Size([64, 2])\n",
      "torch.Size([64, 10])\n"
     ]
    }
   ],
   "source": [
    "## Your solution\n",
    "\n",
    "\n",
    "# Defining activation function. sigmoid function\n",
    "\n",
    "def activation(x):\n",
    "    return(1/(1+torch.exp(-x)))\n",
    "# here x is input which is a torch tensor\n",
    "\n",
    "\n",
    "\n",
    "print(\"images size : \",images.size())\n",
    "\n",
    "\n",
    "# n_input = images.view(64,784)\n",
    "\n",
    "#number of elements in tensor \n",
    "# print(n_input.numel())\n",
    "\n",
    "\n",
    "input_img = images.reshape(64,784)\n",
    "\n",
    "print(\"input size :\",input_img.size())\n",
    "\n",
    "n_input = 784\n",
    "n_hidden = 256\n",
    "n_output = 10\n",
    "\n",
    "W1 = torch.randn(n_input,n_hidden)\n",
    "print(\"W1 size : \",W1.size())\n",
    "B1 = torch.randn(1,n_hidden)\n",
    "print(\"B1 size : \",B1.size())\n",
    "\n",
    "print(\"inpt image\",input_img.size())\n",
    "a=torch.matmul(input_img,W1)\n",
    "print(\"wx size\",a.size())\n",
    "\n",
    "\n",
    "\n",
    "b = a+B1\n",
    "print(\"wx + b size\",b.size())\n",
    "\n",
    "\n",
    "h1 = activation(b)\n",
    "\n",
    "\n",
    "print(h1.size())\n",
    "\n",
    "\n",
    "\n",
    "# Loop for hidden layers from second layer to last but one layer.\n",
    "\n",
    "for i in range(1,n_hidden-1):\n",
    "    \n",
    "    h_rows, h_columns = h1.size()\n",
    "    d=torch.matmul(h1,torch.randn(h_columns,n_hidden-1))+(torch.randn(1,n_hidden-1))\n",
    "    \n",
    "#     print(\"wx + b size : \",d.size())\n",
    "    h1=activation(d)\n",
    "#     print(\"h size : \",h.size())\n",
    "    n_hidden-=1\n",
    "    h = h1\n",
    "print(h.size())\n",
    "\n",
    "\n",
    "\n",
    "#Last hidden layer\n",
    "\n",
    "h_rows, h_columns = h1.size()\n",
    "out=torch.matmul(h,torch.randn(h_columns,n_output)+torch.randn(1,n_output))\n",
    "print(out.size())\n",
    "\n",
    "\n",
    "# out = # output of your network, should have shape (64,10)"
   ]
  },
  {
   "cell_type": "markdown",
   "metadata": {},
   "source": [
    "Now we have 10 outputs for our network. We want to pass in an image to our network and get out a probability distribution over the classes that tells us the likely class(es) the image belongs to. Something that looks like this:\n",
    "<img src='assets/image_distribution.png' width=500px>\n",
    "\n",
    "Here we see that the probability for each class is roughly the same. This is representing an untrained network, it hasn't seen any data yet so it just returns a uniform distribution with equal probabilities for each class.\n",
    "\n",
    "To calculate this probability distribution, we often use the [**softmax** function](https://en.wikipedia.org/wiki/Softmax_function). Mathematically this looks like\n",
    "\n",
    "$$\n",
    "\\Large \\sigma(x_i) = \\cfrac{e^{x_i}}{\\sum_k^K{e^{x_k}}}\n",
    "$$\n",
    "\n",
    "What this does is squish each input $x_i$ between 0 and 1 and normalizes the values to give you a proper probability distribution where the probabilites sum up to one.\n",
    "\n",
    "> **Exercise:** Implement a function `softmax` that performs the softmax calculation and returns probability distributions for each example in the batch. Note that you'll need to pay attention to the shapes when doing this. If you have a tensor `a` with shape `(64, 10)` and a tensor `b` with shape `(64,)`, doing `a/b` will give you an error because PyTorch will try to do the division across the columns (called broadcasting) but you'll get a size mismatch. The way to think about this is for each of the 64 examples, you only want to divide by one value, the sum in the denominator. So you need `b` to have a shape of `(64, 1)`. This way PyTorch will divide the 10 values in each row of `a` by the one value in each row of `b`. Pay attention to how you take the sum as well. You'll need to define the `dim` keyword in `torch.sum`. Setting `dim=0` takes the sum across the rows while `dim=1` takes the sum across the columns."
   ]
  },
  {
   "cell_type": "code",
   "execution_count": 6,
   "metadata": {},
   "outputs": [
    {
     "name": "stdout",
     "output_type": "stream",
     "text": [
      "torch.Size([64, 10])\n",
      "tensor([0.0156, 0.0156, 0.0156, 0.0156, 0.0156, 0.0156, 0.0156, 0.0156, 0.0156,\n",
      "        0.0156, 0.0156, 0.0156, 0.0156, 0.0156, 0.0156, 0.0156, 0.0156, 0.0156,\n",
      "        0.0156, 0.0156, 0.0156, 0.0156, 0.0156, 0.0156, 0.0156, 0.0156, 0.0156,\n",
      "        0.0156, 0.0156, 0.0156, 0.0156, 0.0156, 0.0156, 0.0156, 0.0156, 0.0156,\n",
      "        0.0156, 0.0156, 0.0156, 0.0156, 0.0156, 0.0156, 0.0156, 0.0156, 0.0156,\n",
      "        0.0156, 0.0156, 0.0156, 0.0156, 0.0156, 0.0156, 0.0156, 0.0156, 0.0156,\n",
      "        0.0156, 0.0156, 0.0156, 0.0156, 0.0156, 0.0156, 0.0156, 0.0156, 0.0156,\n",
      "        0.0156])\n",
      "tensor(1.0000)\n"
     ]
    }
   ],
   "source": [
    "def softmax(x):\n",
    "    ## TODO: Implement the softmax function here\n",
    "\n",
    "    denominator= torch.sum(torch.exp(x))\n",
    "    return((torch.exp(x))/denominator)\n",
    "    \n",
    "# Here, out should be the output of the network in the previous excercise with shape (64,10)\n",
    "probabilities = softmax(out)\n",
    "\n",
    "# Does it have the right shape? Should be (64, 10)\n",
    "print(probabilities.shape)\n",
    "# Does it sum to 1?\n",
    "print(probabilities.sum(dim=1))\n",
    "print(probabilities.sum())"
   ]
  },
  {
   "cell_type": "markdown",
   "metadata": {},
   "source": [
    "## Building networks with PyTorch\n",
    "\n",
    "PyTorch provides a module `nn` that makes building networks much simpler. Here I'll show you how to build the same one as above with 784 inputs, 256 hidden units, 10 output units and a softmax output."
   ]
  },
  {
   "cell_type": "code",
   "execution_count": 7,
   "metadata": {},
   "outputs": [],
   "source": [
    "from torch import nn"
   ]
  },
  {
   "cell_type": "code",
   "execution_count": 8,
   "metadata": {},
   "outputs": [],
   "source": [
    "class Network(nn.Module):\n",
    "    def __init__(self):\n",
    "        super().__init__()\n",
    "        \n",
    "        # Inputs to hidden layer linear transformation\n",
    "        self.hidden = nn.Linear(784, 256)\n",
    "        # Output layer, 10 units - one for each digit\n",
    "        self.output = nn.Linear(256, 10)\n",
    "        \n",
    "        # Define sigmoid activation and softmax output \n",
    "        self.sigmoid = nn.Sigmoid()\n",
    "        self.softmax = nn.Softmax(dim=1)\n",
    "        \n",
    "    def forward(self, x):\n",
    "        # Pass the input tensor through each of our operations\n",
    "        x = self.hidden(x)\n",
    "        x = self.sigmoid(x)\n",
    "        x = self.output(x)\n",
    "        x = self.softmax(x)\n",
    "        \n",
    "        return x"
   ]
  },
  {
   "cell_type": "markdown",
   "metadata": {},
   "source": [
    "Let's go through this bit by bit.\n",
    "\n",
    "```python\n",
    "class Network(nn.Module):\n",
    "```\n",
    "\n",
    "Here we're inheriting from `nn.Module`. Combined with `super().__init__()` this creates a class that tracks the architecture and provides a lot of useful methods and attributes. It is mandatory to inherit from `nn.Module` when you're creating a class for your network. The name of the class itself can be anything.\n",
    "\n",
    "```python\n",
    "self.hidden = nn.Linear(784, 256)\n",
    "```\n",
    "\n",
    "This line creates a module for a linear transformation, $x\\mathbf{W} + b$, with 784 inputs and 256 outputs and assigns it to `self.hidden`. The module automatically creates the weight and bias tensors which we'll use in the `forward` method. You can access the weight and bias tensors once the network (`net`) is created with `net.hidden.weight` and `net.hidden.bias`.\n",
    "\n",
    "```python\n",
    "self.output = nn.Linear(256, 10)\n",
    "```\n",
    "\n",
    "Similarly, this creates another linear transformation with 256 inputs and 10 outputs.\n",
    "\n",
    "```python\n",
    "self.sigmoid = nn.Sigmoid()\n",
    "self.softmax = nn.Softmax(dim=1)\n",
    "```\n",
    "\n",
    "Here I defined operations for the sigmoid activation and softmax output. Setting `dim=1` in `nn.Softmax(dim=1)` calculates softmax across the columns.\n",
    "\n",
    "```python\n",
    "def forward(self, x):\n",
    "```\n",
    "\n",
    "PyTorch networks created with `nn.Module` must have a `forward` method defined. It takes in a tensor `x` and passes it through the operations you defined in the `__init__` method.\n",
    "\n",
    "```python\n",
    "x = self.hidden(x)\n",
    "x = self.sigmoid(x)\n",
    "x = self.output(x)\n",
    "x = self.softmax(x)\n",
    "```\n",
    "\n",
    "Here the input tensor `x` is passed through each operation and reassigned to `x`. We can see that the input tensor goes through the hidden layer, then a sigmoid function, then the output layer, and finally the softmax function. It doesn't matter what you name the variables here, as long as the inputs and outputs of the operations match the network architecture you want to build. The order in which you define things in the `__init__` method doesn't matter, but you'll need to sequence the operations correctly in the `forward` method.\n",
    "\n",
    "Now we can create a `Network` object."
   ]
  },
  {
   "cell_type": "code",
   "execution_count": 9,
   "metadata": {},
   "outputs": [
    {
     "data": {
      "text/plain": [
       "Network(\n",
       "  (hidden): Linear(in_features=784, out_features=256, bias=True)\n",
       "  (output): Linear(in_features=256, out_features=10, bias=True)\n",
       "  (sigmoid): Sigmoid()\n",
       "  (softmax): Softmax()\n",
       ")"
      ]
     },
     "execution_count": 9,
     "metadata": {},
     "output_type": "execute_result"
    }
   ],
   "source": [
    "# Create the network and look at it's text representation\n",
    "model = Network()\n",
    "model"
   ]
  },
  {
   "cell_type": "markdown",
   "metadata": {},
   "source": [
    "You can define the network somewhat more concisely and clearly using the `torch.nn.functional` module. This is the most common way you'll see networks defined as many operations are simple element-wise functions. We normally import this module as `F`, `import torch.nn.functional as F`."
   ]
  },
  {
   "cell_type": "code",
   "execution_count": 10,
   "metadata": {},
   "outputs": [],
   "source": [
    "import torch.nn.functional as F\n",
    "\n",
    "class Network(nn.Module):\n",
    "    def __init__(self):\n",
    "        super().__init__()\n",
    "        # Inputs to hidden layer linear transformation\n",
    "        self.hidden = nn.Linear(784, 256)\n",
    "        # Output layer, 10 units - one for each digit\n",
    "        self.output = nn.Linear(256, 10)\n",
    "        \n",
    "    def forward(self, x):\n",
    "        # Hidden layer with sigmoid activation\n",
    "        x = F.sigmoid(self.hidden(x))\n",
    "        # Output layer with softmax activation\n",
    "        x = F.softmax(self.output(x), dim=1)\n",
    "        \n",
    "        return x"
   ]
  },
  {
   "cell_type": "markdown",
   "metadata": {},
   "source": [
    "### Activation functions\n",
    "\n",
    "So far we've only been looking at the sigmoid activation function, but in general any function can be used as an activation function. The only requirement is that for a network to approximate a non-linear function, the activation functions must be non-linear. Here are a few more examples of common activation functions: Tanh (hyperbolic tangent), and ReLU (rectified linear unit).\n",
    "\n",
    "<img src=\"assets/activation.png\" width=700px>\n",
    "\n",
    "In practice, the ReLU function is used almost exclusively as the activation function for hidden layers."
   ]
  },
  {
   "cell_type": "markdown",
   "metadata": {},
   "source": [
    "### Your Turn to Build a Network\n",
    "\n",
    "<img src=\"assets/mlp_mnist.png\" width=600px>\n",
    "\n",
    "> **Exercise:** Create a network with 784 input units, a hidden layer with 128 units and a ReLU activation, then a hidden layer with 64 units and a ReLU activation, and finally an output layer with a softmax activation as shown above. You can use a ReLU activation with the `nn.ReLU` module or `F.relu` function.\n",
    "\n",
    "It's good practice to name your layers by their type of network, for instance 'fc' to represent a fully-connected layer. As you code your solution, use `fc1`, `fc2`, and `fc3` as your layer names."
   ]
  },
  {
   "cell_type": "code",
   "execution_count": 11,
   "metadata": {
    "scrolled": true
   },
   "outputs": [
    {
     "data": {
      "text/plain": [
       "tensor([[0.1203, 0.1058, 0.0969, 0.0878, 0.1184, 0.0787, 0.1107, 0.0904, 0.0993,\n",
       "         0.0917],\n",
       "        [0.1154, 0.1120, 0.0911, 0.0865, 0.1093, 0.0857, 0.1128, 0.0947, 0.0999,\n",
       "         0.0925],\n",
       "        [0.1189, 0.1038, 0.0910, 0.0919, 0.1216, 0.0797, 0.1181, 0.0943, 0.0923,\n",
       "         0.0883],\n",
       "        [0.1227, 0.1077, 0.0889, 0.0906, 0.1118, 0.0828, 0.1112, 0.0840, 0.1066,\n",
       "         0.0936],\n",
       "        [0.1141, 0.1011, 0.0964, 0.0896, 0.1173, 0.0818, 0.1163, 0.0986, 0.0926,\n",
       "         0.0921],\n",
       "        [0.1162, 0.1001, 0.1008, 0.0885, 0.1185, 0.0815, 0.1127, 0.0912, 0.0990,\n",
       "         0.0915],\n",
       "        [0.1162, 0.0939, 0.0946, 0.0932, 0.1209, 0.0799, 0.1222, 0.0934, 0.0950,\n",
       "         0.0906],\n",
       "        [0.1212, 0.1024, 0.0965, 0.0907, 0.1137, 0.0806, 0.1145, 0.0908, 0.1003,\n",
       "         0.0892],\n",
       "        [0.1184, 0.1038, 0.0905, 0.0941, 0.1123, 0.0844, 0.1113, 0.0924, 0.1028,\n",
       "         0.0901],\n",
       "        [0.1125, 0.1054, 0.1011, 0.0850, 0.1154, 0.0859, 0.1145, 0.0957, 0.0961,\n",
       "         0.0884],\n",
       "        [0.1105, 0.1059, 0.0946, 0.0892, 0.1182, 0.0832, 0.1149, 0.0923, 0.0970,\n",
       "         0.0941],\n",
       "        [0.1109, 0.1109, 0.0979, 0.0898, 0.1138, 0.0834, 0.1114, 0.0973, 0.0998,\n",
       "         0.0849],\n",
       "        [0.1144, 0.1028, 0.0968, 0.0896, 0.1153, 0.0791, 0.1232, 0.0955, 0.0941,\n",
       "         0.0890],\n",
       "        [0.1097, 0.0984, 0.0998, 0.0890, 0.1172, 0.0844, 0.1196, 0.0980, 0.0918,\n",
       "         0.0920],\n",
       "        [0.1162, 0.1055, 0.0977, 0.0941, 0.1042, 0.0810, 0.1126, 0.0919, 0.1027,\n",
       "         0.0941],\n",
       "        [0.1157, 0.1039, 0.0953, 0.0868, 0.1131, 0.0810, 0.1183, 0.0916, 0.1005,\n",
       "         0.0936],\n",
       "        [0.1152, 0.1128, 0.1022, 0.0833, 0.1156, 0.0767, 0.1136, 0.0946, 0.0982,\n",
       "         0.0877],\n",
       "        [0.1174, 0.0993, 0.1004, 0.0893, 0.1142, 0.0824, 0.1152, 0.0910, 0.1019,\n",
       "         0.0888],\n",
       "        [0.1193, 0.1052, 0.0986, 0.0869, 0.1082, 0.0805, 0.1161, 0.0885, 0.1025,\n",
       "         0.0942],\n",
       "        [0.1227, 0.0994, 0.0961, 0.0926, 0.1087, 0.0791, 0.1101, 0.0893, 0.1016,\n",
       "         0.1004],\n",
       "        [0.1142, 0.1041, 0.0914, 0.0877, 0.1095, 0.0876, 0.1167, 0.0929, 0.0972,\n",
       "         0.0985],\n",
       "        [0.1116, 0.1060, 0.0973, 0.0912, 0.1110, 0.0856, 0.1094, 0.1020, 0.0942,\n",
       "         0.0917],\n",
       "        [0.1138, 0.1049, 0.1005, 0.0871, 0.1090, 0.0852, 0.1089, 0.0935, 0.1058,\n",
       "         0.0914],\n",
       "        [0.1127, 0.1020, 0.0971, 0.0939, 0.1132, 0.0859, 0.1057, 0.0944, 0.0989,\n",
       "         0.0963],\n",
       "        [0.1148, 0.1044, 0.0898, 0.0921, 0.1167, 0.0908, 0.1089, 0.0913, 0.1037,\n",
       "         0.0875],\n",
       "        [0.1232, 0.1095, 0.0932, 0.0809, 0.1140, 0.0831, 0.1181, 0.0894, 0.0953,\n",
       "         0.0934],\n",
       "        [0.1164, 0.1072, 0.0927, 0.0895, 0.1198, 0.0824, 0.1087, 0.0920, 0.1036,\n",
       "         0.0878],\n",
       "        [0.1116, 0.1105, 0.0927, 0.0874, 0.1181, 0.0863, 0.1128, 0.0906, 0.1010,\n",
       "         0.0890],\n",
       "        [0.1067, 0.1070, 0.0980, 0.0910, 0.1240, 0.0826, 0.1238, 0.0921, 0.0885,\n",
       "         0.0863],\n",
       "        [0.1193, 0.0979, 0.0940, 0.0920, 0.1162, 0.0824, 0.1130, 0.0936, 0.0982,\n",
       "         0.0933],\n",
       "        [0.1125, 0.1091, 0.0979, 0.0904, 0.1094, 0.0857, 0.1128, 0.0905, 0.0998,\n",
       "         0.0919],\n",
       "        [0.1159, 0.1021, 0.0955, 0.0873, 0.1137, 0.0850, 0.1128, 0.0942, 0.0979,\n",
       "         0.0956],\n",
       "        [0.1171, 0.1004, 0.0974, 0.0938, 0.1120, 0.0818, 0.1169, 0.0967, 0.0944,\n",
       "         0.0896],\n",
       "        [0.1132, 0.1022, 0.0989, 0.0950, 0.1111, 0.0784, 0.1109, 0.0973, 0.0999,\n",
       "         0.0930],\n",
       "        [0.1131, 0.1108, 0.0955, 0.0856, 0.1078, 0.0886, 0.1131, 0.0971, 0.0999,\n",
       "         0.0886],\n",
       "        [0.1136, 0.1030, 0.0911, 0.0896, 0.1143, 0.0880, 0.1171, 0.0970, 0.0979,\n",
       "         0.0885],\n",
       "        [0.1134, 0.1008, 0.0956, 0.0880, 0.1129, 0.0893, 0.1087, 0.0927, 0.1026,\n",
       "         0.0961],\n",
       "        [0.1117, 0.1094, 0.1012, 0.0916, 0.1160, 0.0790, 0.1152, 0.0903, 0.0998,\n",
       "         0.0858],\n",
       "        [0.1123, 0.1015, 0.0965, 0.0897, 0.1076, 0.0887, 0.1148, 0.0928, 0.0999,\n",
       "         0.0962],\n",
       "        [0.1178, 0.1041, 0.0965, 0.0843, 0.1112, 0.0857, 0.1162, 0.0934, 0.0965,\n",
       "         0.0942],\n",
       "        [0.1181, 0.1006, 0.0937, 0.0891, 0.1104, 0.0846, 0.1149, 0.0912, 0.1020,\n",
       "         0.0956],\n",
       "        [0.1156, 0.0937, 0.0982, 0.0954, 0.1153, 0.0850, 0.1119, 0.0923, 0.1012,\n",
       "         0.0913],\n",
       "        [0.1135, 0.1067, 0.0896, 0.0893, 0.1105, 0.0863, 0.1201, 0.0954, 0.0939,\n",
       "         0.0946],\n",
       "        [0.1226, 0.0970, 0.1005, 0.0891, 0.1228, 0.0741, 0.1144, 0.0982, 0.0902,\n",
       "         0.0912],\n",
       "        [0.1131, 0.1028, 0.1010, 0.0883, 0.1208, 0.0789, 0.1164, 0.0931, 0.0903,\n",
       "         0.0952],\n",
       "        [0.1199, 0.1062, 0.0971, 0.0867, 0.1099, 0.0806, 0.1158, 0.0929, 0.0989,\n",
       "         0.0920],\n",
       "        [0.1063, 0.1089, 0.0942, 0.0927, 0.1163, 0.0798, 0.1223, 0.0930, 0.0912,\n",
       "         0.0952],\n",
       "        [0.1084, 0.1111, 0.1005, 0.0895, 0.1147, 0.0803, 0.1177, 0.0910, 0.0961,\n",
       "         0.0908],\n",
       "        [0.1132, 0.1085, 0.0947, 0.0872, 0.1165, 0.0845, 0.1161, 0.0918, 0.0995,\n",
       "         0.0880],\n",
       "        [0.1127, 0.1112, 0.1019, 0.0841, 0.1202, 0.0804, 0.1147, 0.0932, 0.0948,\n",
       "         0.0868],\n",
       "        [0.1152, 0.1003, 0.0946, 0.0882, 0.1209, 0.0818, 0.1268, 0.0910, 0.0920,\n",
       "         0.0893],\n",
       "        [0.1131, 0.1071, 0.0930, 0.0872, 0.1153, 0.0904, 0.1173, 0.0898, 0.0978,\n",
       "         0.0890],\n",
       "        [0.1103, 0.1088, 0.0996, 0.0872, 0.1211, 0.0852, 0.1099, 0.0945, 0.0981,\n",
       "         0.0853],\n",
       "        [0.1117, 0.1019, 0.0986, 0.0913, 0.1138, 0.0859, 0.1073, 0.0945, 0.0986,\n",
       "         0.0964],\n",
       "        [0.1095, 0.1021, 0.1043, 0.0903, 0.1135, 0.0883, 0.1152, 0.0932, 0.0986,\n",
       "         0.0850],\n",
       "        [0.1124, 0.1033, 0.1008, 0.0883, 0.1136, 0.0794, 0.1116, 0.1014, 0.0913,\n",
       "         0.0978],\n",
       "        [0.1164, 0.1079, 0.0995, 0.0881, 0.1122, 0.0776, 0.1128, 0.0932, 0.0993,\n",
       "         0.0929],\n",
       "        [0.1125, 0.1013, 0.0945, 0.0933, 0.1139, 0.0857, 0.1146, 0.0967, 0.0976,\n",
       "         0.0899],\n",
       "        [0.1183, 0.1034, 0.0983, 0.0834, 0.1083, 0.0861, 0.1113, 0.0901, 0.1012,\n",
       "         0.0996],\n",
       "        [0.1156, 0.1003, 0.0951, 0.0914, 0.1104, 0.0853, 0.1181, 0.0968, 0.0938,\n",
       "         0.0934],\n",
       "        [0.1150, 0.1047, 0.0985, 0.0899, 0.1109, 0.0825, 0.1149, 0.0929, 0.0997,\n",
       "         0.0910],\n",
       "        [0.1169, 0.1093, 0.0964, 0.0844, 0.1115, 0.0847, 0.1130, 0.0884, 0.0985,\n",
       "         0.0970],\n",
       "        [0.1075, 0.1047, 0.1016, 0.0888, 0.1151, 0.0859, 0.1074, 0.1012, 0.0969,\n",
       "         0.0911],\n",
       "        [0.1212, 0.1133, 0.0881, 0.0865, 0.1087, 0.0886, 0.1137, 0.0863, 0.1014,\n",
       "         0.0921]], grad_fn=<SoftmaxBackward>)"
      ]
     },
     "execution_count": 11,
     "metadata": {},
     "output_type": "execute_result"
    }
   ],
   "source": [
    "## Your solution here\n",
    "\n",
    "import torch.nn.functional as F\n",
    "\n",
    "\n",
    "class Network(nn.Module):\n",
    "    def __init__(self):\n",
    "        super().__init__()\n",
    "        # Inputs to hidden layer linear transformation\n",
    "        self.hidden1 = nn.Linear(784, 128)\n",
    "        \n",
    "        self.hidden2 = nn.Linear(128,64)\n",
    "        \n",
    "        # Output layer, 10 units - one for each digit\n",
    "        self.output = nn.Linear(64, 10)\n",
    "        \n",
    "    def fc1(self,x):\n",
    "        return F.relu(self.hidden1(x))\n",
    "        \n",
    "    def fc2(self,fc1):\n",
    "        return F.relu(self.hidden2(fc1))\n",
    "        \n",
    "    def fc3(self,fc2):\n",
    "        return F.softmax(self.output(fc2), dim=1) \n",
    "        \n",
    "    def forward(self, x):\n",
    "        # First Hidden layer with ReLU activation\n",
    "        x = self.fc1(x)\n",
    "        \n",
    "        # Second Hidden layer with ReLU activation         \n",
    "        x = self.fc2(x)\n",
    "        \n",
    "        \n",
    "        # Output layer with softmax activation\n",
    "        x = self.fc3(x)\n",
    "        \n",
    "        return x\n",
    "    \n",
    "images = images.view(images.shape[0], -1)\n",
    "model = Network()\n",
    "model.forward(images)\n",
    "    \n",
    "# Network.forward(torch.randn(1,784))\n"
   ]
  },
  {
   "cell_type": "markdown",
   "metadata": {},
   "source": [
    "### Initializing weights and biases\n",
    "\n",
    "The weights and such are automatically initialized for you, but it's possible to customize how they are initialized. The weights and biases are tensors attached to the layer you defined, you can get them with `model.fc1.weight` for instance."
   ]
  },
  {
   "cell_type": "code",
   "execution_count": 12,
   "metadata": {},
   "outputs": [
    {
     "ename": "AttributeError",
     "evalue": "'Network' object has no attribute 'weight'",
     "output_type": "error",
     "traceback": [
      "\u001b[0;31m---------------------------------------------------------------------------\u001b[0m",
      "\u001b[0;31mAttributeError\u001b[0m                            Traceback (most recent call last)",
      "\u001b[0;32m<ipython-input-12-46f306c902ce>\u001b[0m in \u001b[0;36m<module>\u001b[0;34m\u001b[0m\n\u001b[0;32m----> 1\u001b[0;31m \u001b[0mprint\u001b[0m\u001b[0;34m(\u001b[0m\u001b[0mmodel\u001b[0m\u001b[0;34m.\u001b[0m\u001b[0mweight\u001b[0m\u001b[0;34m)\u001b[0m\u001b[0;34m\u001b[0m\u001b[0;34m\u001b[0m\u001b[0m\n\u001b[0m\u001b[1;32m      2\u001b[0m \u001b[0mprint\u001b[0m\u001b[0;34m(\u001b[0m\u001b[0mmodel\u001b[0m\u001b[0;34m.\u001b[0m\u001b[0mfc1\u001b[0m\u001b[0;34m.\u001b[0m\u001b[0mbias\u001b[0m\u001b[0;34m)\u001b[0m\u001b[0;34m\u001b[0m\u001b[0;34m\u001b[0m\u001b[0m\n",
      "\u001b[0;32m~/miniconda3/lib/python3.7/site-packages/torch/nn/modules/module.py\u001b[0m in \u001b[0;36m__getattr__\u001b[0;34m(self, name)\u001b[0m\n\u001b[1;32m    537\u001b[0m                 \u001b[0;32mreturn\u001b[0m \u001b[0mmodules\u001b[0m\u001b[0;34m[\u001b[0m\u001b[0mname\u001b[0m\u001b[0;34m]\u001b[0m\u001b[0;34m\u001b[0m\u001b[0;34m\u001b[0m\u001b[0m\n\u001b[1;32m    538\u001b[0m         raise AttributeError(\"'{}' object has no attribute '{}'\".format(\n\u001b[0;32m--> 539\u001b[0;31m             type(self).__name__, name))\n\u001b[0m\u001b[1;32m    540\u001b[0m \u001b[0;34m\u001b[0m\u001b[0m\n\u001b[1;32m    541\u001b[0m     \u001b[0;32mdef\u001b[0m \u001b[0m__setattr__\u001b[0m\u001b[0;34m(\u001b[0m\u001b[0mself\u001b[0m\u001b[0;34m,\u001b[0m \u001b[0mname\u001b[0m\u001b[0;34m,\u001b[0m \u001b[0mvalue\u001b[0m\u001b[0;34m)\u001b[0m\u001b[0;34m:\u001b[0m\u001b[0;34m\u001b[0m\u001b[0;34m\u001b[0m\u001b[0m\n",
      "\u001b[0;31mAttributeError\u001b[0m: 'Network' object has no attribute 'weight'"
     ]
    }
   ],
   "source": [
    "print(model.weight)\n",
    "print(model.fc1.bias)"
   ]
  },
  {
   "cell_type": "markdown",
   "metadata": {},
   "source": [
    "For custom initialization, we want to modify these tensors in place. These are actually autograd *Variables*, so we need to get back the actual tensors with `model.fc1.weight.data`. Once we have the tensors, we can fill them with zeros (for biases) or random normal values."
   ]
  },
  {
   "cell_type": "code",
   "execution_count": 13,
   "metadata": {},
   "outputs": [
    {
     "ename": "AttributeError",
     "evalue": "'function' object has no attribute 'bias'",
     "output_type": "error",
     "traceback": [
      "\u001b[0;31m---------------------------------------------------------------------------\u001b[0m",
      "\u001b[0;31mAttributeError\u001b[0m                            Traceback (most recent call last)",
      "\u001b[0;32m<ipython-input-13-7f3924b78efd>\u001b[0m in \u001b[0;36m<module>\u001b[0;34m\u001b[0m\n\u001b[1;32m      1\u001b[0m \u001b[0;31m# Set biases to all zeros\u001b[0m\u001b[0;34m\u001b[0m\u001b[0;34m\u001b[0m\u001b[0;34m\u001b[0m\u001b[0m\n\u001b[0;32m----> 2\u001b[0;31m \u001b[0mmodel\u001b[0m\u001b[0;34m.\u001b[0m\u001b[0mfc1\u001b[0m\u001b[0;34m.\u001b[0m\u001b[0mbias\u001b[0m\u001b[0;34m.\u001b[0m\u001b[0mdata\u001b[0m\u001b[0;34m.\u001b[0m\u001b[0mfill_\u001b[0m\u001b[0;34m(\u001b[0m\u001b[0;36m0\u001b[0m\u001b[0;34m)\u001b[0m\u001b[0;34m\u001b[0m\u001b[0;34m\u001b[0m\u001b[0m\n\u001b[0m",
      "\u001b[0;31mAttributeError\u001b[0m: 'function' object has no attribute 'bias'"
     ]
    }
   ],
   "source": [
    "# Set biases to all zeros\n",
    "model.fc1.bias.data.fill_(0)"
   ]
  },
  {
   "cell_type": "code",
   "execution_count": 14,
   "metadata": {},
   "outputs": [
    {
     "ename": "AttributeError",
     "evalue": "'function' object has no attribute 'weight'",
     "output_type": "error",
     "traceback": [
      "\u001b[0;31m---------------------------------------------------------------------------\u001b[0m",
      "\u001b[0;31mAttributeError\u001b[0m                            Traceback (most recent call last)",
      "\u001b[0;32m<ipython-input-14-51cf007dbb9a>\u001b[0m in \u001b[0;36m<module>\u001b[0;34m\u001b[0m\n\u001b[1;32m      1\u001b[0m \u001b[0;31m# sample from random normal with standard dev = 0.01\u001b[0m\u001b[0;34m\u001b[0m\u001b[0;34m\u001b[0m\u001b[0;34m\u001b[0m\u001b[0m\n\u001b[0;32m----> 2\u001b[0;31m \u001b[0mmodel\u001b[0m\u001b[0;34m.\u001b[0m\u001b[0mfc1\u001b[0m\u001b[0;34m.\u001b[0m\u001b[0mweight\u001b[0m\u001b[0;34m.\u001b[0m\u001b[0mdata\u001b[0m\u001b[0;34m.\u001b[0m\u001b[0mnormal_\u001b[0m\u001b[0;34m(\u001b[0m\u001b[0mstd\u001b[0m\u001b[0;34m=\u001b[0m\u001b[0;36m0.01\u001b[0m\u001b[0;34m)\u001b[0m\u001b[0;34m\u001b[0m\u001b[0;34m\u001b[0m\u001b[0m\n\u001b[0m",
      "\u001b[0;31mAttributeError\u001b[0m: 'function' object has no attribute 'weight'"
     ]
    }
   ],
   "source": [
    "# sample from random normal with standard dev = 0.01\n",
    "model.fc1.weight.data.normal_(std=0.01)"
   ]
  },
  {
   "cell_type": "markdown",
   "metadata": {},
   "source": [
    "### Forward pass\n",
    "\n",
    "Now that we have a network, let's see what happens when we pass in an image."
   ]
  },
  {
   "cell_type": "code",
   "execution_count": 15,
   "metadata": {},
   "outputs": [
    {
     "data": {
      "image/png": "[encoded data removed]",
      "text/plain": [
       "<Figure size 432x648 with 2 Axes>"
      ]
     },
     "metadata": {
      "image/png": {
       "height": 235,
       "width": 424
      },
      "needs_background": "light"
     },
     "output_type": "display_data"
    }
   ],
   "source": [
    "# Grab some data \n",
    "dataiter = iter(trainloader)\n",
    "images, labels = dataiter.next()\n",
    "\n",
    "# Resize images into a 1D vector, new shape is (batch size, color channels, image pixels) \n",
    "images.resize_(64, 1, 784)\n",
    "# or images.resize_(images.shape[0], 1, 784) to automatically get batch size\n",
    "\n",
    "# Forward pass through the network\n",
    "img_idx = 0\n",
    "ps = model.forward(images[img_idx,:])\n",
    "\n",
    "img = images[img_idx]\n",
    "helper.view_classify(img.view(1, 28, 28), ps)"
   ]
  },
  {
   "cell_type": "markdown",
   "metadata": {},
   "source": [
    "As you can see above, our network has basically no idea what this digit is. It's because we haven't trained it yet, all the weights are random!\n",
    "\n",
    "### Using `nn.Sequential`\n",
    "\n",
    "PyTorch provides a convenient way to build networks like this where a tensor is passed sequentially through operations, `nn.Sequential` ([documentation](https://pytorch.org/docs/master/nn.html#torch.nn.Sequential)). Using this to build the equivalent network:"
   ]
  },
  {
   "cell_type": "code",
   "execution_count": 16,
   "metadata": {},
   "outputs": [
    {
     "name": "stdout",
     "output_type": "stream",
     "text": [
      "Sequential(\n",
      "  (0): Linear(in_features=784, out_features=128, bias=True)\n",
      "  (1): ReLU()\n",
      "  (2): Linear(in_features=128, out_features=64, bias=True)\n",
      "  (3): ReLU()\n",
      "  (4): Linear(in_features=64, out_features=10, bias=True)\n",
      "  (5): Softmax()\n",
      ")\n"
     ]
    },
    {
     "data": {
      "image/png": "[encoded data removed]",
      "text/plain": [
       "<Figure size 432x648 with 2 Axes>"
      ]
     },
     "metadata": {
      "image/png": {
       "height": 235,
       "width": 424
      },
      "needs_background": "light"
     },
     "output_type": "display_data"
    }
   ],
   "source": [
    "# Hyperparameters for our network\n",
    "input_size = 784\n",
    "hidden_sizes = [128, 64]\n",
    "output_size = 10\n",
    "\n",
    "# Build a feed-forward network\n",
    "model = nn.Sequential(nn.Linear(input_size, hidden_sizes[0]),\n",
    "                      nn.ReLU(),\n",
    "                      nn.Linear(hidden_sizes[0], hidden_sizes[1]),\n",
    "                      nn.ReLU(),\n",
    "                      nn.Linear(hidden_sizes[1], output_size),\n",
    "                      nn.Softmax(dim=1))\n",
    "print(model)\n",
    "\n",
    "# Forward pass through the network and display output\n",
    "images, labels = next(iter(trainloader))\n",
    "images.resize_(images.shape[0], 1, 784)\n",
    "ps = model.forward(images[0,:])\n",
    "helper.view_classify(images[0].view(1, 28, 28), ps)"
   ]
  },
  {
   "cell_type": "markdown",
   "metadata": {},
   "source": [
    "Here our model is the same as before: 784 input units, a hidden layer with 128 units, ReLU activation, 64 unit hidden layer, another ReLU, then the output layer with 10 units, and the softmax output.\n",
    "\n",
    "The operations are available by passing in the appropriate index. For example, if you want to get first Linear operation and look at the weights, you'd use `model[0]`."
   ]
  },
  {
   "cell_type": "code",
   "execution_count": 17,
   "metadata": {},
   "outputs": [
    {
     "name": "stdout",
     "output_type": "stream",
     "text": [
      "Linear(in_features=784, out_features=128, bias=True)\n"
     ]
    },
    {
     "data": {
      "text/plain": [
       "Parameter containing:\n",
       "tensor([[-0.0058,  0.0233,  0.0293,  ..., -0.0114,  0.0180,  0.0101],\n",
       "        [-0.0134,  0.0009,  0.0022,  ..., -0.0111,  0.0214, -0.0208],\n",
       "        [ 0.0231,  0.0216, -0.0070,  ..., -0.0126, -0.0239,  0.0041],\n",
       "        ...,\n",
       "        [ 0.0326, -0.0007, -0.0136,  ...,  0.0092, -0.0022,  0.0104],\n",
       "        [ 0.0182,  0.0315,  0.0188,  ..., -0.0278,  0.0221,  0.0030],\n",
       "        [-0.0301, -0.0010,  0.0207,  ..., -0.0295, -0.0078, -0.0293]],\n",
       "       requires_grad=True)"
      ]
     },
     "execution_count": 17,
     "metadata": {},
     "output_type": "execute_result"
    }
   ],
   "source": [
    "print(model[0])\n",
    "model[0].weight"
   ]
  },
  {
   "cell_type": "markdown",
   "metadata": {},
   "source": [
    "You can also pass in an `OrderedDict` to name the individual layers and operations, instead of using incremental integers. Note that dictionary keys must be unique, so _each operation must have a different name_."
   ]
  },
  {
   "cell_type": "code",
   "execution_count": 18,
   "metadata": {},
   "outputs": [
    {
     "data": {
      "text/plain": [
       "Sequential(\n",
       "  (fc1): Linear(in_features=784, out_features=128, bias=True)\n",
       "  (relu1): ReLU()\n",
       "  (fc2): Linear(in_features=128, out_features=64, bias=True)\n",
       "  (relu2): ReLU()\n",
       "  (output): Linear(in_features=64, out_features=10, bias=True)\n",
       "  (softmax): Softmax()\n",
       ")"
      ]
     },
     "execution_count": 18,
     "metadata": {},
     "output_type": "execute_result"
    }
   ],
   "source": [
    "from collections import OrderedDict\n",
    "model = nn.Sequential(OrderedDict([\n",
    "                      ('fc1', nn.Linear(input_size, hidden_sizes[0])),\n",
    "                      ('relu1', nn.ReLU()),\n",
    "                      ('fc2', nn.Linear(hidden_sizes[0], hidden_sizes[1])),\n",
    "                      ('relu2', nn.ReLU()),\n",
    "                      ('output', nn.Linear(hidden_sizes[1], output_size)),\n",
    "                      ('softmax', nn.Softmax(dim=1))]))\n",
    "model"
   ]
  },
  {
   "cell_type": "markdown",
   "metadata": {},
   "source": [
    "Now you can access layers either by integer or the name"
   ]
  },
  {
   "cell_type": "code",
   "execution_count": 21,
   "metadata": {},
   "outputs": [
    {
     "name": "stdout",
     "output_type": "stream",
     "text": [
      "Linear(in_features=784, out_features=128, bias=True)\n",
      "Linear(in_features=784, out_features=128, bias=True)\n"
     ]
    }
   ],
   "source": [
    "print(model[0])\n",
    "print(model.fc1)"
   ]
  },
  {
   "cell_type": "markdown",
   "metadata": {},
   "source": [
    "In the next notebook, we'll see how we can train a neural network to accuractly predict the numbers appearing in the MNIST images."
   ]
  }
 ],
 "metadata": {
  "kernelspec": {
   "display_name": "Python 3",
   "language": "python",
   "name": "python3"
  },
  "language_info": {
   "codemirror_mode": {
    "name": "ipython",
    "version": 3
   },
   "file_extension": ".py",
   "mimetype": "text/x-python",
   "name": "python",
   "nbconvert_exporter": "python",
   "pygments_lexer": "ipython3",
   "version": "3.7.1"
  }
 },
 "nbformat": 4,
 "nbformat_minor": 2
}
