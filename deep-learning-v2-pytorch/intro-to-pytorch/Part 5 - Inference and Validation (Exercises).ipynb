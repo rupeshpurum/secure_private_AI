{
 "cells": [
  {
   "cell_type": "markdown",
   "metadata": {},
   "source": [
    "# Inference and Validation\n",
    "\n",
    "Now that you have a trained network, you can use it for making predictions. This is typically called **inference**, a term borrowed from statistics. However, neural networks have a tendency to perform *too well* on the training data and aren't able to generalize to data that hasn't been seen before. This is called **overfitting** and it impairs inference performance. To test for overfitting while training, we measure the performance on data not in the training set called the **validation** set. We avoid overfitting through regularization such as dropout while monitoring the validation performance during training. In this notebook, I'll show you how to do this in PyTorch. \n",
    "\n",
    "As usual, let's start by loading the dataset through torchvision. You'll learn more about torchvision and loading data in a later part. This time we'll be taking advantage of the test set which you can get by setting `train=False` here:\n",
    "\n",
    "```python\n",
    "testset = datasets.FashionMNIST('~/.pytorch/F_MNIST_data/', download=True, train=False, transform=transform)\n",
    "```\n",
    "\n",
    "The test set contains images just like the training set. Typically you'll see 10-20% of the original dataset held out for testing and validation with the rest being used for training."
   ]
  },
  {
   "cell_type": "code",
   "execution_count": 1,
   "metadata": {},
   "outputs": [],
   "source": [
    "import torch\n",
    "from torchvision import datasets, transforms\n",
    "\n",
    "# Define a transform to normalize the data\n",
    "transform = transforms.Compose([transforms.ToTensor(),\n",
    "                                transforms.Normalize((0.5,), (0.5,))])\n",
    "# Download and load the training data\n",
    "trainset = datasets.FashionMNIST('~/.pytorch/F_MNIST_data/', download=True, train=True, transform=transform)\n",
    "trainloader = torch.utils.data.DataLoader(trainset, batch_size=64, shuffle=True)\n",
    "\n",
    "# Download and load the test data\n",
    "testset = datasets.FashionMNIST('~/.pytorch/F_MNIST_data/', download=True, train=False, transform=transform)\n",
    "testloader = torch.utils.data.DataLoader(testset, batch_size=64, shuffle=True)"
   ]
  },
  {
   "cell_type": "markdown",
   "metadata": {},
   "source": [
    "Here I'll create a model like normal, using the same one from my solution for part 4."
   ]
  },
  {
   "cell_type": "code",
   "execution_count": 2,
   "metadata": {},
   "outputs": [],
   "source": [
    "from torch import nn, optim\n",
    "import torch.nn.functional as F\n",
    "\n",
    "class Classifier(nn.Module):\n",
    "    def __init__(self):\n",
    "        super().__init__()\n",
    "        self.fc1 = nn.Linear(784, 256)\n",
    "        self.fc2 = nn.Linear(256, 128)\n",
    "        self.fc3 = nn.Linear(128, 64)\n",
    "        self.fc4 = nn.Linear(64, 10)\n",
    "        \n",
    "    def forward(self, x):\n",
    "        # make sure input tensor is flattened\n",
    "        x = x.view(x.shape[0], -1)\n",
    "        \n",
    "        x = F.relu(self.fc1(x))\n",
    "        x = F.relu(self.fc2(x))\n",
    "        x = F.relu(self.fc3(x))\n",
    "        x = F.log_softmax(self.fc4(x), dim=1)\n",
    "        \n",
    "        return x"
   ]
  },
  {
   "cell_type": "markdown",
   "metadata": {},
   "source": [
    "The goal of validation is to measure the model's performance on data that isn't part of the training set. Performance here is up to the developer to define though. Typically this is just accuracy, the percentage of classes the network predicted correctly. Other options are [precision and recall](https://en.wikipedia.org/wiki/Precision_and_recall#Definition_(classification_context)) and top-5 error rate. We'll focus on accuracy here. First I'll do a forward pass with one batch from the test set."
   ]
  },
  {
   "cell_type": "code",
   "execution_count": 3,
   "metadata": {},
   "outputs": [
    {
     "name": "stdout",
     "output_type": "stream",
     "text": [
      "torch.Size([64, 10])\n"
     ]
    }
   ],
   "source": [
    "model = Classifier()\n",
    "\n",
    "images, labels = next(iter(testloader))\n",
    "# Get the class probabilities\n",
    "ps = torch.exp(model(images))\n",
    "\n",
    "# Make sure the shape is appropriate, we should get 10 class probabilities for 64 examples\n",
    "print(ps.shape)"
   ]
  },
  {
   "cell_type": "markdown",
   "metadata": {},
   "source": [
    "With the probabilities, we can get the most likely class using the `ps.topk` method. This returns the $k$ highest values. Since we just want the most likely class, we can use `ps.topk(1)`. This returns a tuple of the top-$k$ values and the top-$k$ indices. If the highest value is the fifth element, we'll get back 4 as the index."
   ]
  },
  {
   "cell_type": "code",
   "execution_count": 4,
   "metadata": {},
   "outputs": [
    {
     "name": "stdout",
     "output_type": "stream",
     "text": [
      "torch.Size([64, 1])\n",
      "tensor([2, 0, 1, 0, 4, 4, 2, 4, 2, 9])\n",
      "tensor([[3],\n",
      "        [3],\n",
      "        [3],\n",
      "        [3],\n",
      "        [3],\n",
      "        [3],\n",
      "        [3],\n",
      "        [3],\n",
      "        [3],\n",
      "        [3]])\n"
     ]
    }
   ],
   "source": [
    "top_p, top_class = ps.topk(1, dim=1)\n",
    "# Look at the most likely classes for the first 10 examples\n",
    "\n",
    "print(top_class.size())\n",
    "print(labels[:10])\n",
    "print(top_class[:10,:])"
   ]
  },
  {
   "cell_type": "markdown",
   "metadata": {},
   "source": [
    "Now we can check if the predicted classes match the labels. This is simple to do by equating `top_class` and `labels`, but we have to be careful of the shapes. Here `top_class` is a 2D tensor with shape `(64, 1)` while `labels` is 1D with shape `(64)`. To get the equality to work out the way we want, `top_class` and `labels` must have the same shape.\n",
    "\n",
    "If we do\n",
    "\n",
    "```python\n",
    "equals = top_class == labels\n",
    "```\n",
    "\n",
    "`equals` will have shape `(64, 64)`, try it yourself. What it's doing is comparing the one element in each row of `top_class` with each element in `labels` which returns 64 True/False boolean values for each row."
   ]
  },
  {
   "cell_type": "code",
   "execution_count": 23,
   "metadata": {},
   "outputs": [],
   "source": [
    "equals = top_class == labels.view(*top_class.shape)"
   ]
  },
  {
   "cell_type": "markdown",
   "metadata": {},
   "source": [
    "Now we need to calculate the percentage of correct predictions. `equals` has binary values, either 0 or 1. This means that if we just sum up all the values and divide by the number of values, we get the percentage of correct predictions. This is the same operation as taking the mean, so we can get the accuracy with a call to `torch.mean`. If only it was that simple. If you try `torch.mean(equals)`, you'll get an error\n",
    "\n",
    "```\n",
    "RuntimeError: mean is not implemented for type torch.ByteTensor\n",
    "```\n",
    "\n",
    "This happens because `equals` has type `torch.ByteTensor` but `torch.mean` isn't implemented for tensors with that type. So we'll need to convert `equals` to a float tensor. Note that when we take `torch.mean` it returns a scalar tensor, to get the actual value as a float we'll need to do `accuracy.item()`."
   ]
  },
  {
   "cell_type": "code",
   "execution_count": 24,
   "metadata": {},
   "outputs": [
    {
     "name": "stdout",
     "output_type": "stream",
     "text": [
      "Accuracy: 4.6875%\n"
     ]
    }
   ],
   "source": [
    "accuracy = torch.mean(equals.type(torch.FloatTensor))\n",
    "print(f'Accuracy: {accuracy.item()*100}%')"
   ]
  },
  {
   "cell_type": "markdown",
   "metadata": {},
   "source": [
    "The network is untrained so it's making random guesses and we should see an accuracy around 10%. Now let's train our network and include our validation pass so we can measure how well the network is performing on the test set. Since we're not updating our parameters in the validation pass, we can speed up our code by turning off gradients using `torch.no_grad()`:\n",
    "\n",
    "```python\n",
    "# turn off gradients\n",
    "with torch.no_grad():\n",
    "    # validation pass here\n",
    "    for images, labels in testloader:\n",
    "        ...\n",
    "```\n",
    "\n",
    ">**Exercise:** Implement the validation loop below and print out the total accuracy after the loop. You can largely copy and paste the code from above, but I suggest typing it in because writing it out yourself is essential for building the skill. In general you'll always learn more by typing it rather than copy-pasting. You should be able to get an accuracy above 80%."
   ]
  },
  {
   "cell_type": "code",
   "execution_count": 28,
   "metadata": {},
   "outputs": [
    {
     "name": "stdout",
     "output_type": "stream",
     "text": [
      "epoch: 0\n",
      "test_los tensor(0.4483)\n",
      "training_loss 0.5130378326087364\n",
      "Accuracy tensor(0.8374)\n",
      "epoch: 1\n",
      "test_los tensor(0.4200)\n",
      "training_loss 0.3914340527644798\n",
      "Accuracy tensor(0.8439)\n",
      "epoch: 2\n",
      "test_los tensor(0.3979)\n",
      "training_loss 0.35231645694419517\n",
      "Accuracy tensor(0.8562)\n",
      "epoch: 3\n",
      "test_los tensor(0.3973)\n",
      "training_loss 0.33413088032558785\n",
      "Accuracy tensor(0.8598)\n",
      "epoch: 4\n",
      "test_los tensor(0.3934)\n",
      "training_loss 0.3143616863834197\n",
      "Accuracy tensor(0.8638)\n",
      "epoch: 5\n",
      "test_los tensor(0.3810)\n",
      "training_loss 0.30392699975417115\n",
      "Accuracy tensor(0.8631)\n",
      "epoch: 6\n",
      "test_los tensor(0.3903)\n",
      "training_loss 0.28946860245407136\n",
      "Accuracy tensor(0.8693)\n",
      "epoch: 7\n",
      "test_los tensor(0.3756)\n",
      "training_loss 0.28244833875376024\n",
      "Accuracy tensor(0.8710)\n",
      "epoch: 8\n",
      "test_los tensor(0.3598)\n",
      "training_loss 0.27356228713335384\n",
      "Accuracy tensor(0.8773)\n",
      "epoch: 9\n",
      "test_los tensor(0.3487)\n",
      "training_loss 0.2630561699252774\n",
      "Accuracy tensor(0.8824)\n",
      "epoch: 10\n",
      "test_los tensor(0.3590)\n",
      "training_loss 0.2564647227033242\n",
      "Accuracy tensor(0.8791)\n",
      "epoch: 11\n",
      "test_los tensor(0.3667)\n",
      "training_loss 0.24992107527691926\n",
      "Accuracy tensor(0.8775)\n",
      "epoch: 12\n",
      "test_los tensor(0.3863)\n",
      "training_loss 0.24698953889707512\n",
      "Accuracy tensor(0.8770)\n",
      "epoch: 13\n",
      "test_los tensor(0.3680)\n",
      "training_loss 0.24205806878393393\n",
      "Accuracy tensor(0.8816)\n",
      "epoch: 14\n",
      "test_los tensor(0.3797)\n",
      "training_loss 0.2364112647381355\n",
      "Accuracy tensor(0.8825)\n",
      "epoch: 15\n",
      "test_los tensor(0.3835)\n",
      "training_loss 0.23260501720138324\n",
      "Accuracy tensor(0.8814)\n",
      "epoch: 16\n",
      "test_los tensor(0.3882)\n",
      "training_loss 0.22562213640795079\n",
      "Accuracy tensor(0.8748)\n",
      "epoch: 17\n",
      "test_los tensor(0.3584)\n",
      "training_loss 0.22546462879887522\n",
      "Accuracy tensor(0.8845)\n",
      "epoch: 18\n",
      "test_los tensor(0.4129)\n",
      "training_loss 0.21849255510437082\n",
      "Accuracy tensor(0.8798)\n",
      "epoch: 19\n",
      "test_los tensor(0.4353)\n",
      "training_loss 0.21443122835047462\n",
      "Accuracy tensor(0.8760)\n",
      "epoch: 20\n",
      "test_los tensor(0.3738)\n",
      "training_loss 0.2123154952788531\n",
      "Accuracy tensor(0.8835)\n",
      "epoch: 21\n",
      "test_los tensor(0.3965)\n",
      "training_loss 0.2022159376116132\n",
      "Accuracy tensor(0.8792)\n",
      "epoch: 22\n",
      "test_los tensor(0.4035)\n",
      "training_loss 0.20894024968306138\n",
      "Accuracy tensor(0.8801)\n",
      "epoch: 23\n",
      "test_los tensor(0.4459)\n",
      "training_loss 0.1992133809908875\n",
      "Accuracy tensor(0.8755)\n",
      "epoch: 24\n",
      "test_los tensor(0.4499)\n",
      "training_loss 0.1979525792620965\n",
      "Accuracy tensor(0.8748)\n",
      "epoch: 25\n",
      "test_los tensor(0.3987)\n",
      "training_loss 0.19177485218466217\n",
      "Accuracy tensor(0.8825)\n",
      "epoch: 26\n",
      "test_los tensor(0.4031)\n",
      "training_loss 0.19003998761031546\n",
      "Accuracy tensor(0.8811)\n",
      "epoch: 27\n",
      "test_los tensor(0.4285)\n",
      "training_loss 0.19477714042562538\n",
      "Accuracy tensor(0.8803)\n",
      "epoch: 28\n",
      "test_los tensor(0.4219)\n",
      "training_loss 0.19159578296866245\n",
      "Accuracy tensor(0.8828)\n",
      "epoch: 29\n",
      "test_los tensor(0.4294)\n",
      "training_loss 0.18019817581078582\n",
      "Accuracy tensor(0.8844)\n"
     ]
    }
   ],
   "source": [
    "model = Classifier()\n",
    "criterion = nn.NLLLoss()\n",
    "optimizer = optim.Adam(model.parameters(), lr=0.003)\n",
    "\n",
    "epochs = 30\n",
    "steps = 0\n",
    "\n",
    "train_losses, test_losses = [], []\n",
    "for e in range(epochs):\n",
    "    running_loss = 0\n",
    "    for images, labels in trainloader:\n",
    "        \n",
    "        optimizer.zero_grad()\n",
    "        \n",
    "        log_ps = model(images)\n",
    "        loss = criterion(log_ps, labels)\n",
    "        loss.backward()\n",
    "        optimizer.step()\n",
    "        \n",
    "        running_loss += loss.item()\n",
    "        \n",
    "    else:\n",
    "        ## TODO: Implement the validation pass and print out the validation accuracy\n",
    "        \n",
    "        with torch.no_grad():\n",
    "            accuracy = 0\n",
    "            test_los = 0\n",
    "            for image, label in testloader:\n",
    "                log_ps=model(image)\n",
    "                test_los+= criterion(log_ps,label)\n",
    "                ps = torch.exp(log_ps)\n",
    "                top_p, top_class = ps.topk(1,dim = 1)\n",
    "#                 print('top_class size',top_class.size())\n",
    "#                 print('top_p size',top_p.size())\n",
    "                equals = top_class == label.view(*top_class.shape)\n",
    "#                 print(equals.size())\n",
    "                accuracy += torch.mean(equals.type(torch.FloatTensor)) \n",
    "        train_losses.append(running_loss/len(trainloader))\n",
    "        test_losses.append(test_los/len(testloader))\n",
    "        \n",
    "#                 print(f'Accuracy: {accuracy.item()*100}%')\n",
    "        print('epoch:',e)\n",
    "        print('test_los',test_los/len(testloader))\n",
    "        print('training_loss',running_loss/len(trainloader))\n",
    "        print('Accuracy',accuracy/len(testloader))"
   ]
  },
  {
   "cell_type": "code",
   "execution_count": 29,
   "metadata": {},
   "outputs": [],
   "source": [
    "import matplotlib.pyplot as plt\n",
    "%matplotlib inline\n",
    "%config InlineBackend.figure_format = 'retina'"
   ]
  },
  {
   "cell_type": "code",
   "execution_count": 30,
   "metadata": {},
   "outputs": [
    {
     "data": {
      "text/plain": [
       "<matplotlib.legend.Legend at 0x7f0a76cc9dd8>"
      ]
     },
     "execution_count": 30,
     "metadata": {},
     "output_type": "execute_result"
    },
    {
     "data": {
      "image/png": "[encoded data removed]",
      "text/plain": [
       "<Figure size 432x288 with 1 Axes>"
      ]
     },
     "metadata": {
      "image/png": {
       "height": 248,
       "width": 380
      },
      "needs_background": "light"
     },
     "output_type": "display_data"
    }
   ],
   "source": [
    "plt.plot(train_losses,label='train_loss')\n",
    "plt.plot(test_losses,label='validation_loss')\n",
    "plt.legend(frameon=False)"
   ]
  },
  {
   "cell_type": "markdown",
   "metadata": {},
   "source": [
    "## Overfitting\n",
    "\n",
    "If we look at the training and validation losses as we train the network, we can see a phenomenon known as overfitting.\n",
    "\n",
    "<img src='assets/overfitting.png' width=450px>\n",
    "\n",
    "The network learns the training set better and better, resulting in lower training losses. However, it starts having problems generalizing to data outside the training set leading to the validation loss increasing. The ultimate goal of any deep learning model is to make predictions on new data, so we should strive to get the lowest validation loss possible. One option is to use the version of the model with the lowest validation loss, here the one around 8-10 training epochs. This strategy is called *early-stopping*. In practice, you'd save the model frequently as you're training then later choose the model with the lowest validation loss.\n",
    "\n",
    "The most common method to reduce overfitting (outside of early-stopping) is *dropout*, where we randomly drop input units. This forces the network to share information between weights, increasing it's ability to generalize to new data. Adding dropout in PyTorch is straightforward using the [`nn.Dropout`](https://pytorch.org/docs/stable/nn.html#torch.nn.Dropout) module.\n",
    "\n",
    "```python\n",
    "class Classifier(nn.Module):\n",
    "    def __init__(self):\n",
    "        super().__init__()\n",
    "        self.fc1 = nn.Linear(784, 256)\n",
    "        self.fc2 = nn.Linear(256, 128)\n",
    "        self.fc3 = nn.Linear(128, 64)\n",
    "        self.fc4 = nn.Linear(64, 10)\n",
    "        \n",
    "        # Dropout module with 0.2 drop probability\n",
    "        self.dropout = nn.Dropout(p=0.2)\n",
    "        \n",
    "    def forward(self, x):\n",
    "        # make sure input tensor is flattened\n",
    "        x = x.view(x.shape[0], -1)\n",
    "        \n",
    "        # Now with dropout\n",
    "        x = self.dropout(F.relu(self.fc1(x)))\n",
    "        x = self.dropout(F.relu(self.fc2(x)))\n",
    "        x = self.dropout(F.relu(self.fc3(x)))\n",
    "        \n",
    "        # output so no dropout here\n",
    "        x = F.log_softmax(self.fc4(x), dim=1)\n",
    "        \n",
    "        return x\n",
    "```\n",
    "\n",
    "During training we want to use dropout to prevent overfitting, but during inference we want to use the entire network. So, we need to turn off dropout during validation, testing, and whenever we're using the network to make predictions. To do this, you use `model.eval()`. This sets the model to evaluation mode where the dropout probability is 0. You can turn dropout back on by setting the model to train mode with `model.train()`. In general, the pattern for the validation loop will look like this, where you turn off gradients, set the model to evaluation mode, calculate the validation loss and metric, then set the model back to train mode.\n",
    "\n",
    "```python\n",
    "# turn off gradients\n",
    "with torch.no_grad():\n",
    "    \n",
    "    # set model to evaluation mode\n",
    "    model.eval()\n",
    "    \n",
    "    # validation pass here\n",
    "    for images, labels in testloader:\n",
    "        ...\n",
    "\n",
    "# set model back to train mode\n",
    "model.train()\n",
    "```"
   ]
  },
  {
   "cell_type": "markdown",
   "metadata": {},
   "source": [
    "> **Exercise:** Add dropout to your model and train it on Fashion-MNIST again. See if you can get a lower validation loss or higher accuracy."
   ]
  },
  {
   "cell_type": "code",
   "execution_count": 5,
   "metadata": {},
   "outputs": [],
   "source": [
    "## TODO: Define your model with dropout added\n",
    "\n",
    "\n",
    "class classifier(nn.Module):\n",
    "    \n",
    "    def __init__(self):\n",
    "        super().__init__()\n",
    "        self.fc1=nn.Linear(784,256)\n",
    "        self.fc2=nn.Linear(256,128)\n",
    "        self.fc3=nn.Linear(128,64)\n",
    "        self.fc4=nn.Linear(64,10)\n",
    "        \n",
    "        self.dropout=nn.Dropout(p=0.2)\n",
    "        \n",
    "    def forward(self,x):\n",
    "        \n",
    "        x = x.view(x.shape[0],-1)\n",
    "    \n",
    "#         Here, with dropout \n",
    "        \n",
    "#         x = self.dropout(nn.ReLU(self.fc1(x)))\n",
    "#         x = self.dropout(nn.ReLU(self.fc2(x)))\n",
    "#         x = self.dropout(nn.ReLU(self.fc3(x)))\n",
    "        \n",
    "        x = self.dropout(F.relu(self.fc1(x)))\n",
    "        x = self.dropout(F.relu(self.fc2(x)))\n",
    "        x = self.dropout(F.relu(self.fc3(x)))\n",
    "                          \n",
    "    \n",
    "    \n",
    "#       It is output. So no dropout here\n",
    "#         x = nn.LogSoftmax(self.fc4(x),dim=1)\n",
    "        x = F.log_softmax(self.fc4(x),dim=1)\n",
    "        return x\n",
    "        "
   ]
  },
  {
   "cell_type": "code",
   "execution_count": null,
   "metadata": {},
   "outputs": [
    {
     "name": "stdout",
     "output_type": "stream",
     "text": [
      "echo :  0\n",
      "Running loss tensor(613.7280, grad_fn=<AddBackward0>)\n",
      "Validation loss tensor(74.7002)\n",
      "Test accuracy tensor(0.8314)\n",
      "echo :  1\n",
      "Running loss tensor(508.4257, grad_fn=<AddBackward0>)\n",
      "Validation loss tensor(73.4685)\n",
      "Test accuracy tensor(0.8300)\n",
      "echo :  2\n",
      "Running loss tensor(485.8583, grad_fn=<AddBackward0>)\n",
      "Validation loss tensor(73.6653)\n",
      "Test accuracy tensor(0.8313)\n",
      "echo :  3\n",
      "Running loss tensor(470.9655, grad_fn=<AddBackward0>)\n",
      "Validation loss tensor(70.4309)\n",
      "Test accuracy tensor(0.8428)\n",
      "echo :  4\n",
      "Running loss tensor(467.5432, grad_fn=<AddBackward0>)\n",
      "Validation loss tensor(68.9926)\n",
      "Test accuracy tensor(0.8468)\n",
      "echo :  5\n",
      "Running loss tensor(460.7347, grad_fn=<AddBackward0>)\n",
      "Validation loss tensor(72.3341)\n",
      "Test accuracy tensor(0.8372)\n",
      "echo :  6\n",
      "Running loss tensor(453.6192, grad_fn=<AddBackward0>)\n",
      "Validation loss tensor(72.8123)\n",
      "Test accuracy tensor(0.8409)\n",
      "echo :  7\n",
      "Running loss tensor(448.3731, grad_fn=<AddBackward0>)\n",
      "Validation loss tensor(73.6823)\n",
      "Test accuracy tensor(0.8376)\n",
      "echo :  8\n",
      "Running loss tensor(450.2715, grad_fn=<AddBackward0>)\n",
      "Validation loss tensor(67.3617)\n",
      "Test accuracy tensor(0.8502)\n",
      "echo :  9\n",
      "Running loss tensor(440.4860, grad_fn=<AddBackward0>)\n",
      "Validation loss tensor(69.2262)\n",
      "Test accuracy tensor(0.8452)\n",
      "echo :  10\n",
      "Running loss tensor(440.2530, grad_fn=<AddBackward0>)\n",
      "Validation loss tensor(66.6823)\n",
      "Test accuracy tensor(0.8518)\n",
      "echo :  11\n",
      "Running loss tensor(443.9233, grad_fn=<AddBackward0>)\n",
      "Validation loss tensor(68.9593)\n",
      "Test accuracy tensor(0.8527)\n",
      "echo :  12\n",
      "Running loss tensor(441.1219, grad_fn=<AddBackward0>)\n",
      "Validation loss tensor(66.1052)\n",
      "Test accuracy tensor(0.8513)\n",
      "echo :  13\n",
      "Running loss tensor(438.7580, grad_fn=<AddBackward0>)\n",
      "Validation loss tensor(70.3793)\n",
      "Test accuracy tensor(0.8498)\n",
      "echo :  14\n",
      "Running loss tensor(444.7456, grad_fn=<AddBackward0>)\n",
      "Validation loss tensor(69.2833)\n",
      "Test accuracy tensor(0.8466)\n",
      "echo :  15\n",
      "Running loss tensor(455.9735, grad_fn=<AddBackward0>)\n",
      "Validation loss tensor(72.5146)\n",
      "Test accuracy tensor(0.8399)\n",
      "echo :  16\n",
      "Running loss tensor(443.9038, grad_fn=<AddBackward0>)\n",
      "Validation loss tensor(76.6464)\n",
      "Test accuracy tensor(0.8438)\n",
      "echo :  17\n",
      "Running loss tensor(441.1039, grad_fn=<AddBackward0>)\n",
      "Validation loss tensor(70.5267)\n",
      "Test accuracy tensor(0.8496)\n"
     ]
    }
   ],
   "source": [
    "## TODO: Train your model with dropout, and monitor the training progress with the validation loss and accuracy\n",
    "\n",
    "model= classifier()\n",
    "criterion = nn.NLLLoss()\n",
    "optimizer = optim.Adam(model.parameters(),lr=0.005)\n",
    "train_losses =[]\n",
    "validation_losses = []\n",
    "for e in range(30):\n",
    "    validation_loss = 0\n",
    "    running_loss=0\n",
    "    accuracy = 0\n",
    "    \n",
    "    for image, label in trainloader:\n",
    "        optimizer.zero_grad()\n",
    "        out = model(image)\n",
    "        loss = criterion(out,label)\n",
    "        \n",
    "        loss.backward()\n",
    "        \n",
    "        optimizer.step()\n",
    "        \n",
    "        running_loss += loss\n",
    "        \n",
    "    else:\n",
    "        \n",
    "        with torch.no_grad():\n",
    "            \n",
    "            model.eval()\n",
    "            \n",
    "            for images,labels in testloader:\n",
    "                \n",
    "                out1 = model(images)\n",
    "                loss1 = criterion(out1,labels)\n",
    "                ps = torch.exp(out1)\n",
    "                top_p, top_class = ps.topk(1,dim=1)\n",
    "                \n",
    "                equals = top_class == labels.view(*top_class.shape)\n",
    "                \n",
    "                validation_loss +=loss1\n",
    "                accuracy += torch.mean(equals.type(torch.FloatTensor))\n",
    "            \n",
    "            model.train()\n",
    "            \n",
    "        train_losses.append(running_loss/len(trainloader))\n",
    "        validation_losses.append(validation_loss/len(testloader))\n",
    "        test_accuracy = accuracy/len(testloader)\n",
    "        \n",
    "        print(\"echo : \",e)\n",
    "        \n",
    "        print(\"Running loss\",running_loss)\n",
    "        \n",
    "        print(\"Validation loss\",validation_loss)\n",
    "        \n",
    "        print(\"Test accuracy\",test_accuracy)\n"
   ]
  },
  {
   "cell_type": "code",
   "execution_count": null,
   "metadata": {},
   "outputs": [],
   "source": [
    "import matplotlib.pyplot as plt\n",
    "%matplotlib inline\n",
    "%config InlineBackend.figure_format = 'retina'"
   ]
  },
  {
   "cell_type": "code",
   "execution_count": null,
   "metadata": {},
   "outputs": [],
   "source": [
    "plt.plot(train_losses,label='Train_losses')\n",
    "plt.plot(validation_losses,label='Validation_losses')\n",
    "plt.legend(frameon=False)\n",
    "\n"
   ]
  },
  {
   "cell_type": "markdown",
   "metadata": {},
   "source": [
    "## Inference\n",
    "\n",
    "Now that the model is trained, we can use it for inference. We've done this before, but now we need to remember to set the model in inference mode with `model.eval()`. You'll also want to turn off autograd with the `torch.no_grad()` context."
   ]
  },
  {
   "cell_type": "code",
   "execution_count": 29,
   "metadata": {},
   "outputs": [
    {
     "data": {
      "image/png": "[encoded data removed]",
      "text/plain": [
       "<Figure size 432x648 with 2 Axes>"
      ]
     },
     "metadata": {
      "image/png": {
       "height": 206,
       "width": 423
      },
      "needs_background": "light"
     },
     "output_type": "display_data"
    }
   ],
   "source": [
    "# Import helper module (should be in the repo)\n",
    "import helper\n",
    "\n",
    "# Test out your network!\n",
    "\n",
    "model.eval()\n",
    "\n",
    "dataiter = iter(testloader)\n",
    "images, labels = dataiter.next()\n",
    "img = images[0]\n",
    "# Convert 2D image to 1D vector\n",
    "img = img.view(1, 784)\n",
    "\n",
    "# Calculate the class probabilities (softmax) for img\n",
    "with torch.no_grad():\n",
    "    output = model.forward(img)\n",
    "\n",
    "ps = torch.exp(output)\n",
    "\n",
    "# Plot the image and probabilities\n",
    "helper.view_classify(img.view(1, 28, 28), ps, version='Fashion')"
   ]
  },
  {
   "cell_type": "markdown",
   "metadata": {},
   "source": [
    "## Next Up!\n",
    "\n",
    "In the next part, I'll show you how to save your trained models. In general, you won't want to train a model everytime you need it. Instead, you'll train once, save it, then load the model when you want to train more or use if for inference."
   ]
  }
 ],
 "metadata": {
  "kernelspec": {
   "display_name": "Python 3",
   "language": "python",
   "name": "python3"
  },
  "language_info": {
   "codemirror_mode": {
    "name": "ipython",
    "version": 3
   },
   "file_extension": ".py",
   "mimetype": "text/x-python",
   "name": "python",
   "nbconvert_exporter": "python",
   "pygments_lexer": "ipython3",
   "version": "3.7.1"
  }
 },
 "nbformat": 4,
 "nbformat_minor": 2
}
